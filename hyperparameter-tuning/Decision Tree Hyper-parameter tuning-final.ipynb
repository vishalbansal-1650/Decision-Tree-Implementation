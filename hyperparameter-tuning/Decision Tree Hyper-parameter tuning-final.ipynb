{
 "cells": [
  {
   "cell_type": "markdown",
   "metadata": {},
   "source": [
    "We would try to tune different hyperparameter at a time while buliding decision tree and observe performance of model."
   ]
  },
  {
   "cell_type": "code",
   "execution_count": 196,
   "metadata": {},
   "outputs": [],
   "source": [
    "import numpy as np\n",
    "import pandas as pd\n",
    "import matplotlib.pyplot as plt\n",
    "\n",
    "from sklearn.tree import DecisionTreeClassifier,plot_tree\n",
    "from sklearn.model_selection import train_test_split,GridSearchCV\n",
    "\n",
    "from sklearn.metrics import roc_curve,auc,accuracy_score"
   ]
  },
  {
   "cell_type": "code",
   "execution_count": 197,
   "metadata": {},
   "outputs": [],
   "source": [
    "### Read dataset\n",
    "\n",
    "data = pd.read_csv('bill_authentication.csv')"
   ]
  },
  {
   "cell_type": "code",
   "execution_count": 198,
   "metadata": {},
   "outputs": [
    {
     "data": {
      "text/html": [
       "<div>\n",
       "<style scoped>\n",
       "    .dataframe tbody tr th:only-of-type {\n",
       "        vertical-align: middle;\n",
       "    }\n",
       "\n",
       "    .dataframe tbody tr th {\n",
       "        vertical-align: top;\n",
       "    }\n",
       "\n",
       "    .dataframe thead th {\n",
       "        text-align: right;\n",
       "    }\n",
       "</style>\n",
       "<table border=\"1\" class=\"dataframe\">\n",
       "  <thead>\n",
       "    <tr style=\"text-align: right;\">\n",
       "      <th></th>\n",
       "      <th>Variance</th>\n",
       "      <th>Skewness</th>\n",
       "      <th>Curtosis</th>\n",
       "      <th>Entropy</th>\n",
       "      <th>Class</th>\n",
       "    </tr>\n",
       "  </thead>\n",
       "  <tbody>\n",
       "    <tr>\n",
       "      <th>0</th>\n",
       "      <td>3.6216</td>\n",
       "      <td>8.6661</td>\n",
       "      <td>-2.8073</td>\n",
       "      <td>-0.44699</td>\n",
       "      <td>0</td>\n",
       "    </tr>\n",
       "    <tr>\n",
       "      <th>1</th>\n",
       "      <td>4.5459</td>\n",
       "      <td>8.1674</td>\n",
       "      <td>-2.4586</td>\n",
       "      <td>-1.46210</td>\n",
       "      <td>0</td>\n",
       "    </tr>\n",
       "    <tr>\n",
       "      <th>2</th>\n",
       "      <td>3.8660</td>\n",
       "      <td>-2.6383</td>\n",
       "      <td>1.9242</td>\n",
       "      <td>0.10645</td>\n",
       "      <td>0</td>\n",
       "    </tr>\n",
       "    <tr>\n",
       "      <th>3</th>\n",
       "      <td>3.4566</td>\n",
       "      <td>9.5228</td>\n",
       "      <td>-4.0112</td>\n",
       "      <td>-3.59440</td>\n",
       "      <td>0</td>\n",
       "    </tr>\n",
       "  </tbody>\n",
       "</table>\n",
       "</div>"
      ],
      "text/plain": [
       "   Variance  Skewness  Curtosis  Entropy  Class\n",
       "0    3.6216    8.6661   -2.8073 -0.44699      0\n",
       "1    4.5459    8.1674   -2.4586 -1.46210      0\n",
       "2    3.8660   -2.6383    1.9242  0.10645      0\n",
       "3    3.4566    9.5228   -4.0112 -3.59440      0"
      ]
     },
     "execution_count": 198,
     "metadata": {},
     "output_type": "execute_result"
    }
   ],
   "source": [
    "data.head(4)"
   ]
  },
  {
   "cell_type": "code",
   "execution_count": 199,
   "metadata": {},
   "outputs": [
    {
     "name": "stdout",
     "output_type": "stream",
     "text": [
      "<class 'pandas.core.frame.DataFrame'>\n",
      "RangeIndex: 1372 entries, 0 to 1371\n",
      "Data columns (total 5 columns):\n",
      " #   Column    Non-Null Count  Dtype  \n",
      "---  ------    --------------  -----  \n",
      " 0   Variance  1372 non-null   float64\n",
      " 1   Skewness  1372 non-null   float64\n",
      " 2   Curtosis  1372 non-null   float64\n",
      " 3   Entropy   1372 non-null   float64\n",
      " 4   Class     1372 non-null   int64  \n",
      "dtypes: float64(4), int64(1)\n",
      "memory usage: 53.7 KB\n"
     ]
    }
   ],
   "source": [
    "data.info()"
   ]
  },
  {
   "cell_type": "code",
   "execution_count": 200,
   "metadata": {},
   "outputs": [
    {
     "data": {
      "text/plain": [
       "(1372, 5)"
      ]
     },
     "execution_count": 200,
     "metadata": {},
     "output_type": "execute_result"
    }
   ],
   "source": [
    "data.shape"
   ]
  },
  {
   "cell_type": "code",
   "execution_count": 201,
   "metadata": {},
   "outputs": [
    {
     "data": {
      "text/html": [
       "<div>\n",
       "<style scoped>\n",
       "    .dataframe tbody tr th:only-of-type {\n",
       "        vertical-align: middle;\n",
       "    }\n",
       "\n",
       "    .dataframe tbody tr th {\n",
       "        vertical-align: top;\n",
       "    }\n",
       "\n",
       "    .dataframe thead th {\n",
       "        text-align: right;\n",
       "    }\n",
       "</style>\n",
       "<table border=\"1\" class=\"dataframe\">\n",
       "  <thead>\n",
       "    <tr style=\"text-align: right;\">\n",
       "      <th></th>\n",
       "      <th>count</th>\n",
       "      <th>mean</th>\n",
       "      <th>std</th>\n",
       "      <th>min</th>\n",
       "      <th>25%</th>\n",
       "      <th>50%</th>\n",
       "      <th>75%</th>\n",
       "      <th>max</th>\n",
       "    </tr>\n",
       "  </thead>\n",
       "  <tbody>\n",
       "    <tr>\n",
       "      <th>Variance</th>\n",
       "      <td>1372.0</td>\n",
       "      <td>0.433735</td>\n",
       "      <td>2.842763</td>\n",
       "      <td>-7.0421</td>\n",
       "      <td>-1.773000</td>\n",
       "      <td>0.49618</td>\n",
       "      <td>2.821475</td>\n",
       "      <td>6.8248</td>\n",
       "    </tr>\n",
       "    <tr>\n",
       "      <th>Skewness</th>\n",
       "      <td>1372.0</td>\n",
       "      <td>1.922353</td>\n",
       "      <td>5.869047</td>\n",
       "      <td>-13.7731</td>\n",
       "      <td>-1.708200</td>\n",
       "      <td>2.31965</td>\n",
       "      <td>6.814625</td>\n",
       "      <td>12.9516</td>\n",
       "    </tr>\n",
       "    <tr>\n",
       "      <th>Curtosis</th>\n",
       "      <td>1372.0</td>\n",
       "      <td>1.397627</td>\n",
       "      <td>4.310030</td>\n",
       "      <td>-5.2861</td>\n",
       "      <td>-1.574975</td>\n",
       "      <td>0.61663</td>\n",
       "      <td>3.179250</td>\n",
       "      <td>17.9274</td>\n",
       "    </tr>\n",
       "    <tr>\n",
       "      <th>Entropy</th>\n",
       "      <td>1372.0</td>\n",
       "      <td>-1.191657</td>\n",
       "      <td>2.101013</td>\n",
       "      <td>-8.5482</td>\n",
       "      <td>-2.413450</td>\n",
       "      <td>-0.58665</td>\n",
       "      <td>0.394810</td>\n",
       "      <td>2.4495</td>\n",
       "    </tr>\n",
       "    <tr>\n",
       "      <th>Class</th>\n",
       "      <td>1372.0</td>\n",
       "      <td>0.444606</td>\n",
       "      <td>0.497103</td>\n",
       "      <td>0.0000</td>\n",
       "      <td>0.000000</td>\n",
       "      <td>0.00000</td>\n",
       "      <td>1.000000</td>\n",
       "      <td>1.0000</td>\n",
       "    </tr>\n",
       "  </tbody>\n",
       "</table>\n",
       "</div>"
      ],
      "text/plain": [
       "           count      mean       std      min       25%      50%       75%  \\\n",
       "Variance  1372.0  0.433735  2.842763  -7.0421 -1.773000  0.49618  2.821475   \n",
       "Skewness  1372.0  1.922353  5.869047 -13.7731 -1.708200  2.31965  6.814625   \n",
       "Curtosis  1372.0  1.397627  4.310030  -5.2861 -1.574975  0.61663  3.179250   \n",
       "Entropy   1372.0 -1.191657  2.101013  -8.5482 -2.413450 -0.58665  0.394810   \n",
       "Class     1372.0  0.444606  0.497103   0.0000  0.000000  0.00000  1.000000   \n",
       "\n",
       "              max  \n",
       "Variance   6.8248  \n",
       "Skewness  12.9516  \n",
       "Curtosis  17.9274  \n",
       "Entropy    2.4495  \n",
       "Class      1.0000  "
      ]
     },
     "execution_count": 201,
     "metadata": {},
     "output_type": "execute_result"
    }
   ],
   "source": [
    "data.describe().T"
   ]
  },
  {
   "cell_type": "code",
   "execution_count": 202,
   "metadata": {},
   "outputs": [
    {
     "data": {
      "text/html": [
       "<div>\n",
       "<style scoped>\n",
       "    .dataframe tbody tr th:only-of-type {\n",
       "        vertical-align: middle;\n",
       "    }\n",
       "\n",
       "    .dataframe tbody tr th {\n",
       "        vertical-align: top;\n",
       "    }\n",
       "\n",
       "    .dataframe thead th {\n",
       "        text-align: right;\n",
       "    }\n",
       "</style>\n",
       "<table border=\"1\" class=\"dataframe\">\n",
       "  <thead>\n",
       "    <tr style=\"text-align: right;\">\n",
       "      <th></th>\n",
       "      <th>Curtosis</th>\n",
       "      <th>Entropy</th>\n",
       "      <th>Skewness</th>\n",
       "      <th>Variance</th>\n",
       "    </tr>\n",
       "  </thead>\n",
       "  <tbody>\n",
       "    <tr>\n",
       "      <th>0</th>\n",
       "      <td>-2.8073</td>\n",
       "      <td>-0.44699</td>\n",
       "      <td>8.6661</td>\n",
       "      <td>3.6216</td>\n",
       "    </tr>\n",
       "    <tr>\n",
       "      <th>1</th>\n",
       "      <td>-2.4586</td>\n",
       "      <td>-1.46210</td>\n",
       "      <td>8.1674</td>\n",
       "      <td>4.5459</td>\n",
       "    </tr>\n",
       "    <tr>\n",
       "      <th>2</th>\n",
       "      <td>1.9242</td>\n",
       "      <td>0.10645</td>\n",
       "      <td>-2.6383</td>\n",
       "      <td>3.8660</td>\n",
       "    </tr>\n",
       "  </tbody>\n",
       "</table>\n",
       "</div>"
      ],
      "text/plain": [
       "   Curtosis  Entropy  Skewness  Variance\n",
       "0   -2.8073 -0.44699    8.6661    3.6216\n",
       "1   -2.4586 -1.46210    8.1674    4.5459\n",
       "2    1.9242  0.10645   -2.6383    3.8660"
      ]
     },
     "execution_count": 202,
     "metadata": {},
     "output_type": "execute_result"
    }
   ],
   "source": [
    "x= data[data.columns.difference(['Class'])]\n",
    "x.head(3)"
   ]
  },
  {
   "cell_type": "code",
   "execution_count": 203,
   "metadata": {},
   "outputs": [
    {
     "data": {
      "text/plain": [
       "0    0\n",
       "1    0\n",
       "2    0\n",
       "Name: Class, dtype: int64"
      ]
     },
     "execution_count": 203,
     "metadata": {},
     "output_type": "execute_result"
    }
   ],
   "source": [
    "y = data['Class']\n",
    "y.head(3)"
   ]
  },
  {
   "cell_type": "code",
   "execution_count": 204,
   "metadata": {},
   "outputs": [
    {
     "data": {
      "text/plain": [
       "0    762\n",
       "1    610\n",
       "Name: Class, dtype: int64"
      ]
     },
     "execution_count": 204,
     "metadata": {},
     "output_type": "execute_result"
    }
   ],
   "source": [
    "y.value_counts()"
   ]
  },
  {
   "cell_type": "code",
   "execution_count": 205,
   "metadata": {},
   "outputs": [],
   "source": [
    "def create_df_list(start,end):\n",
    "    df = pd.DataFrame(columns = ['Model','hyperparameter name','train accuracy','test accuracy', 'AUC Score'])\n",
    "\n",
    "    Model_list = []\n",
    "    train_accuracy_list = []\n",
    "    test_accuracy_list = []\n",
    "    AUC_Score_list = []\n",
    "\n",
    "    param_list = list(np.arange(start,end))\n",
    "    print(\"Length of list : \",len(param_list))\n",
    "    train_auc_score = []\n",
    "    test_auc_score = []\n",
    "    return df,Model_list,train_accuracy_list,test_accuracy_list,AUC_Score_list,param_list,train_auc_score,test_auc_score"
   ]
  },
  {
   "cell_type": "code",
   "execution_count": 206,
   "metadata": {},
   "outputs": [],
   "source": [
    "def parameter_tuning(tree,x_train,y_train,x_test,y_test,Model_list,train_accuracy_list,test_accuracy_list,train_auc_score,test_auc_score,AUC_Score_list,hparam,hparam_val):\n",
    "    model_name = str(hparam)+'='+str(hparam_val)\n",
    "    Model_list.append(model_name)\n",
    "    \n",
    "    y_train_pred = tree.predict(x_train)\n",
    "    train_accuracy = accuracy_score(y_train,y_train_pred)\n",
    "    train_accuracy_list.append(train_accuracy)\n",
    "\n",
    "    y_test_pred = tree.predict(x_test)\n",
    "    test_accuracy = accuracy_score(y_test,y_test_pred)\n",
    "    test_accuracy_list.append(test_accuracy)\n",
    "    \n",
    "    fpr,tpr,threshold = roc_curve(y_train,y_train_pred)\n",
    "    auc_score = auc(fpr,tpr)\n",
    "    train_auc_score.append(auc_score)\n",
    "\n",
    "    fpr,tpr,threshold = roc_curve(y_test,y_test_pred)\n",
    "    auc_score = auc(fpr,tpr)\n",
    "    test_auc_score.append(auc_score)\n",
    "    AUC_Score_list.append(auc_score)\n",
    "\n",
    "    return Model_list,train_accuracy_list,test_accuracy_list,train_auc_score,test_auc_score,AUC_Score_list"
   ]
  },
  {
   "cell_type": "code",
   "execution_count": 207,
   "metadata": {},
   "outputs": [],
   "source": [
    "def create_roc_plot(x,train_score,test_score,hparam):\n",
    "    plt.plot(x,train_score,label='Train AUC Score',color='b')\n",
    "    plt.plot(x,test_score,label='Test AUC Score',color='r')\n",
    "    plt.xlabel(str(hparam))\n",
    "    plt.ylabel('Auc Score')\n",
    "    plt.title('Auc score vs '+str(hparam),fontsize=14,fontweight='bold')\n",
    "    plt.show()"
   ]
  },
  {
   "cell_type": "code",
   "execution_count": 208,
   "metadata": {},
   "outputs": [],
   "source": [
    "def tree_plotting(tree):\n",
    "    fig = plt.figure(figsize=(22,14))\n",
    "    _ = plot_tree(tree,filled=True)"
   ]
  },
  {
   "cell_type": "code",
   "execution_count": 209,
   "metadata": {},
   "outputs": [],
   "source": [
    "def store_model_result(df,Model_list,train_accuracy_list,test_accuracy_list,AUC_Score_list,hparam,param_list):\n",
    "    df['Model']=Model_list\n",
    "    df['train accuracy']=train_accuracy_list\n",
    "    df['test accuracy']=test_accuracy_list\n",
    "    df['AUC Score']=AUC_Score_list\n",
    "    df['hyperparameter name']=[hparam]*len(param_list)\n",
    "\n",
    "    return df"
   ]
  },
  {
   "cell_type": "code",
   "execution_count": 210,
   "metadata": {},
   "outputs": [
    {
     "name": "stdout",
     "output_type": "stream",
     "text": [
      "Training dataset length :  1029\n",
      "Testing dataset length :  343\n"
     ]
    }
   ],
   "source": [
    "### train - test split\n",
    "\n",
    "x_train,x_test,y_train,y_test = train_test_split(x,y,test_size=0.25,random_state=100)\n",
    "\n",
    "print(\"Training dataset length : \",len(x_train))\n",
    "print(\"Testing dataset length : \",len(x_test))"
   ]
  },
  {
   "cell_type": "markdown",
   "metadata": {},
   "source": [
    "### 1. Building Decision Tree without tuning"
   ]
  },
  {
   "cell_type": "code",
   "execution_count": 211,
   "metadata": {},
   "outputs": [
    {
     "data": {
      "text/html": [
       "<div>\n",
       "<style scoped>\n",
       "    .dataframe tbody tr th:only-of-type {\n",
       "        vertical-align: middle;\n",
       "    }\n",
       "\n",
       "    .dataframe tbody tr th {\n",
       "        vertical-align: top;\n",
       "    }\n",
       "\n",
       "    .dataframe thead th {\n",
       "        text-align: right;\n",
       "    }\n",
       "</style>\n",
       "<table border=\"1\" class=\"dataframe\">\n",
       "  <thead>\n",
       "    <tr style=\"text-align: right;\">\n",
       "      <th></th>\n",
       "      <th>Model</th>\n",
       "      <th>hyperparameter name</th>\n",
       "      <th>train accuracy</th>\n",
       "      <th>test accuracy</th>\n",
       "      <th>AUC Score</th>\n",
       "    </tr>\n",
       "  </thead>\n",
       "  <tbody>\n",
       "  </tbody>\n",
       "</table>\n",
       "</div>"
      ],
      "text/plain": [
       "Empty DataFrame\n",
       "Columns: [Model, hyperparameter name, train accuracy, test accuracy, AUC Score]\n",
       "Index: []"
      ]
     },
     "execution_count": 211,
     "metadata": {},
     "output_type": "execute_result"
    }
   ],
   "source": [
    "model_details = pd.DataFrame(columns = ['Model','hyperparameter name','train accuracy','test accuracy', 'AUC Score'])\n",
    "model_details"
   ]
  },
  {
   "cell_type": "code",
   "execution_count": null,
   "metadata": {},
   "outputs": [],
   "source": []
  },
  {
   "cell_type": "code",
   "execution_count": 212,
   "metadata": {},
   "outputs": [
    {
     "data": {
      "image/png": "[encoded data removed]",
      "text/plain": [
       "<Figure size 1584x1008 with 1 Axes>"
      ]
     },
     "metadata": {
      "needs_background": "light"
     },
     "output_type": "display_data"
    }
   ],
   "source": [
    "tree = DecisionTreeClassifier(random_state=100).fit(x_train,y_train)\n",
    "\n",
    "y_train_pred = tree.predict(x_train)\n",
    "train_accuracy = accuracy_score(y_train,y_train_pred)\n",
    "\n",
    "y_test_pred = tree.predict(x_test)\n",
    "test_accuracy = accuracy_score(y_test,y_test_pred)\n",
    "\n",
    "fpr,tpr,threshold = roc_curve(y_train,y_train_pred)\n",
    "auc_score = auc(fpr,tpr)\n",
    "\n",
    "fpr,tpr,threshold = roc_curve(y_test,y_test_pred)\n",
    "auc_score = auc(fpr,tpr)\n",
    "\n",
    "model_details['Model']=['Base Model']\n",
    "model_details['hyperparameter name']=None\n",
    "model_details['train accuracy']=train_accuracy\n",
    "model_details['test accuracy']=test_accuracy\n",
    "model_details['AUC Score']=auc_score\n",
    "\n",
    "tree_plotting(tree)"
   ]
  },
  {
   "cell_type": "code",
   "execution_count": 213,
   "metadata": {
    "scrolled": true
   },
   "outputs": [
    {
     "data": {
      "text/html": [
       "<div>\n",
       "<style scoped>\n",
       "    .dataframe tbody tr th:only-of-type {\n",
       "        vertical-align: middle;\n",
       "    }\n",
       "\n",
       "    .dataframe tbody tr th {\n",
       "        vertical-align: top;\n",
       "    }\n",
       "\n",
       "    .dataframe thead th {\n",
       "        text-align: right;\n",
       "    }\n",
       "</style>\n",
       "<table border=\"1\" class=\"dataframe\">\n",
       "  <thead>\n",
       "    <tr style=\"text-align: right;\">\n",
       "      <th></th>\n",
       "      <th>Model</th>\n",
       "      <th>hyperparameter name</th>\n",
       "      <th>train accuracy</th>\n",
       "      <th>test accuracy</th>\n",
       "      <th>AUC Score</th>\n",
       "    </tr>\n",
       "  </thead>\n",
       "  <tbody>\n",
       "    <tr>\n",
       "      <th>0</th>\n",
       "      <td>Base Model</td>\n",
       "      <td>None</td>\n",
       "      <td>1.0</td>\n",
       "      <td>0.991254</td>\n",
       "      <td>0.990578</td>\n",
       "    </tr>\n",
       "  </tbody>\n",
       "</table>\n",
       "</div>"
      ],
      "text/plain": [
       "        Model hyperparameter name  train accuracy  test accuracy  AUC Score\n",
       "0  Base Model                None             1.0       0.991254   0.990578"
      ]
     },
     "execution_count": 213,
     "metadata": {},
     "output_type": "execute_result"
    }
   ],
   "source": [
    "model_details"
   ]
  },
  {
   "cell_type": "markdown",
   "metadata": {},
   "source": [
    "Now we will try tune some hyperparameters and train the tree "
   ]
  },
  {
   "cell_type": "markdown",
   "metadata": {},
   "source": [
    "### 2. Build Decision tree and tune 'max_depth' "
   ]
  },
  {
   "cell_type": "code",
   "execution_count": 214,
   "metadata": {
    "scrolled": true
   },
   "outputs": [
    {
     "name": "stdout",
     "output_type": "stream",
     "text": [
      "Length of list :  10\n"
     ]
    }
   ],
   "source": [
    "model_details1,Model_list,train_accuracy_list,test_accuracy_list,AUC_Score_list,depth_list,train_auc_score,test_auc_score = create_df_list(1,11)"
   ]
  },
  {
   "cell_type": "code",
   "execution_count": 215,
   "metadata": {},
   "outputs": [
    {
     "data": {
      "text/html": [
       "<div>\n",
       "<style scoped>\n",
       "    .dataframe tbody tr th:only-of-type {\n",
       "        vertical-align: middle;\n",
       "    }\n",
       "\n",
       "    .dataframe tbody tr th {\n",
       "        vertical-align: top;\n",
       "    }\n",
       "\n",
       "    .dataframe thead th {\n",
       "        text-align: right;\n",
       "    }\n",
       "</style>\n",
       "<table border=\"1\" class=\"dataframe\">\n",
       "  <thead>\n",
       "    <tr style=\"text-align: right;\">\n",
       "      <th></th>\n",
       "      <th>Model</th>\n",
       "      <th>hyperparameter name</th>\n",
       "      <th>train accuracy</th>\n",
       "      <th>test accuracy</th>\n",
       "      <th>AUC Score</th>\n",
       "    </tr>\n",
       "  </thead>\n",
       "  <tbody>\n",
       "  </tbody>\n",
       "</table>\n",
       "</div>"
      ],
      "text/plain": [
       "Empty DataFrame\n",
       "Columns: [Model, hyperparameter name, train accuracy, test accuracy, AUC Score]\n",
       "Index: []"
      ]
     },
     "execution_count": 215,
     "metadata": {},
     "output_type": "execute_result"
    }
   ],
   "source": [
    "model_details1"
   ]
  },
  {
   "cell_type": "code",
   "execution_count": 216,
   "metadata": {},
   "outputs": [],
   "source": [
    "### using parameter_tuning function\n",
    "\n",
    "for depth in depth_list:\n",
    "    tree = DecisionTreeClassifier(random_state=100,max_depth=depth).fit(x_train,y_train)\n",
    "    Model_list,train_accuracy_list,test_accuracy_list,train_auc_score,test_auc_score,AUC_Score_list = parameter_tuning(tree,x_train,y_train,x_test,y_test,Model_list,train_accuracy_list,test_accuracy_list,train_auc_score,test_auc_score,AUC_Score_list,'max_depth',depth)"
   ]
  },
  {
   "cell_type": "code",
   "execution_count": 217,
   "metadata": {
    "scrolled": true
   },
   "outputs": [
    {
     "data": {
      "image/png": "[encoded data removed]",
      "text/plain": [
       "<Figure size 432x288 with 1 Axes>"
      ]
     },
     "metadata": {
      "needs_background": "light"
     },
     "output_type": "display_data"
    }
   ],
   "source": [
    "create_roc_plot(depth_list,train_auc_score,test_auc_score,'max_depth')"
   ]
  },
  {
   "cell_type": "code",
   "execution_count": 218,
   "metadata": {},
   "outputs": [],
   "source": [
    "model_details1 = store_model_result(model_details1,Model_list,train_accuracy_list,test_accuracy_list,AUC_Score_list,'max_depth',depth_list)\n"
   ]
  },
  {
   "cell_type": "code",
   "execution_count": 219,
   "metadata": {
    "scrolled": true
   },
   "outputs": [
    {
     "data": {
      "text/html": [
       "<div>\n",
       "<style scoped>\n",
       "    .dataframe tbody tr th:only-of-type {\n",
       "        vertical-align: middle;\n",
       "    }\n",
       "\n",
       "    .dataframe tbody tr th {\n",
       "        vertical-align: top;\n",
       "    }\n",
       "\n",
       "    .dataframe thead th {\n",
       "        text-align: right;\n",
       "    }\n",
       "</style>\n",
       "<table border=\"1\" class=\"dataframe\">\n",
       "  <thead>\n",
       "    <tr style=\"text-align: right;\">\n",
       "      <th></th>\n",
       "      <th>Model</th>\n",
       "      <th>hyperparameter name</th>\n",
       "      <th>train accuracy</th>\n",
       "      <th>test accuracy</th>\n",
       "      <th>AUC Score</th>\n",
       "    </tr>\n",
       "  </thead>\n",
       "  <tbody>\n",
       "    <tr>\n",
       "      <th>0</th>\n",
       "      <td>max_depth=1</td>\n",
       "      <td>max_depth</td>\n",
       "      <td>0.849368</td>\n",
       "      <td>0.865889</td>\n",
       "      <td>0.868147</td>\n",
       "    </tr>\n",
       "    <tr>\n",
       "      <th>1</th>\n",
       "      <td>max_depth=2</td>\n",
       "      <td>max_depth</td>\n",
       "      <td>0.910593</td>\n",
       "      <td>0.915452</td>\n",
       "      <td>0.906461</td>\n",
       "    </tr>\n",
       "    <tr>\n",
       "      <th>2</th>\n",
       "      <td>max_depth=3</td>\n",
       "      <td>max_depth</td>\n",
       "      <td>0.943635</td>\n",
       "      <td>0.950437</td>\n",
       "      <td>0.945994</td>\n",
       "    </tr>\n",
       "    <tr>\n",
       "      <th>3</th>\n",
       "      <td>max_depth=4</td>\n",
       "      <td>max_depth</td>\n",
       "      <td>0.978620</td>\n",
       "      <td>0.979592</td>\n",
       "      <td>0.976785</td>\n",
       "    </tr>\n",
       "    <tr>\n",
       "      <th>4</th>\n",
       "      <td>max_depth=5</td>\n",
       "      <td>max_depth</td>\n",
       "      <td>0.986395</td>\n",
       "      <td>0.962099</td>\n",
       "      <td>0.964403</td>\n",
       "    </tr>\n",
       "    <tr>\n",
       "      <th>5</th>\n",
       "      <td>max_depth=6</td>\n",
       "      <td>max_depth</td>\n",
       "      <td>0.997085</td>\n",
       "      <td>0.985423</td>\n",
       "      <td>0.983682</td>\n",
       "    </tr>\n",
       "    <tr>\n",
       "      <th>6</th>\n",
       "      <td>max_depth=7</td>\n",
       "      <td>max_depth</td>\n",
       "      <td>0.999028</td>\n",
       "      <td>0.991254</td>\n",
       "      <td>0.990578</td>\n",
       "    </tr>\n",
       "    <tr>\n",
       "      <th>7</th>\n",
       "      <td>max_depth=8</td>\n",
       "      <td>max_depth</td>\n",
       "      <td>1.000000</td>\n",
       "      <td>0.991254</td>\n",
       "      <td>0.990578</td>\n",
       "    </tr>\n",
       "    <tr>\n",
       "      <th>8</th>\n",
       "      <td>max_depth=9</td>\n",
       "      <td>max_depth</td>\n",
       "      <td>1.000000</td>\n",
       "      <td>0.991254</td>\n",
       "      <td>0.990578</td>\n",
       "    </tr>\n",
       "    <tr>\n",
       "      <th>9</th>\n",
       "      <td>max_depth=10</td>\n",
       "      <td>max_depth</td>\n",
       "      <td>1.000000</td>\n",
       "      <td>0.991254</td>\n",
       "      <td>0.990578</td>\n",
       "    </tr>\n",
       "  </tbody>\n",
       "</table>\n",
       "</div>"
      ],
      "text/plain": [
       "          Model hyperparameter name  train accuracy  test accuracy  AUC Score\n",
       "0   max_depth=1           max_depth        0.849368       0.865889   0.868147\n",
       "1   max_depth=2           max_depth        0.910593       0.915452   0.906461\n",
       "2   max_depth=3           max_depth        0.943635       0.950437   0.945994\n",
       "3   max_depth=4           max_depth        0.978620       0.979592   0.976785\n",
       "4   max_depth=5           max_depth        0.986395       0.962099   0.964403\n",
       "5   max_depth=6           max_depth        0.997085       0.985423   0.983682\n",
       "6   max_depth=7           max_depth        0.999028       0.991254   0.990578\n",
       "7   max_depth=8           max_depth        1.000000       0.991254   0.990578\n",
       "8   max_depth=9           max_depth        1.000000       0.991254   0.990578\n",
       "9  max_depth=10           max_depth        1.000000       0.991254   0.990578"
      ]
     },
     "execution_count": 219,
     "metadata": {},
     "output_type": "execute_result"
    }
   ],
   "source": [
    "model_details1"
   ]
  },
  {
   "cell_type": "code",
   "execution_count": null,
   "metadata": {},
   "outputs": [],
   "source": []
  },
  {
   "cell_type": "markdown",
   "metadata": {},
   "source": [
    "### 3. Build Decision tree and tune 'min_samples_split' "
   ]
  },
  {
   "cell_type": "code",
   "execution_count": 220,
   "metadata": {},
   "outputs": [
    {
     "name": "stdout",
     "output_type": "stream",
     "text": [
      "Length of list :  39\n"
     ]
    }
   ],
   "source": [
    "model_details2,Model_list,train_accuracy_list,test_accuracy_list,AUC_Score_list,min_samples_list,train_auc_score,test_auc_score = create_df_list(2,41)"
   ]
  },
  {
   "cell_type": "code",
   "execution_count": 221,
   "metadata": {},
   "outputs": [],
   "source": [
    "for split in min_samples_list:\n",
    "    tree = DecisionTreeClassifier(random_state=100,min_samples_split=split).fit(x_train,y_train)\n",
    "    Model_list,train_accuracy_list,test_accuracy_list,train_auc_score,test_auc_score,AUC_Score_list = parameter_tuning(tree,x_train,y_train,x_test,y_test,Model_list,train_accuracy_list,test_accuracy_list,train_auc_score,test_auc_score,AUC_Score_list,'min_samples_split',split)"
   ]
  },
  {
   "cell_type": "code",
   "execution_count": 222,
   "metadata": {},
   "outputs": [
    {
     "data": {
      "image/png": "[encoded data removed]",
      "text/plain": [
       "<Figure size 432x288 with 1 Axes>"
      ]
     },
     "metadata": {
      "needs_background": "light"
     },
     "output_type": "display_data"
    }
   ],
   "source": [
    "create_roc_plot(min_samples_list,train_auc_score,test_auc_score,'min_samples_split')"
   ]
  },
  {
   "cell_type": "code",
   "execution_count": 223,
   "metadata": {},
   "outputs": [
    {
     "data": {
      "text/html": [
       "<div>\n",
       "<style scoped>\n",
       "    .dataframe tbody tr th:only-of-type {\n",
       "        vertical-align: middle;\n",
       "    }\n",
       "\n",
       "    .dataframe tbody tr th {\n",
       "        vertical-align: top;\n",
       "    }\n",
       "\n",
       "    .dataframe thead th {\n",
       "        text-align: right;\n",
       "    }\n",
       "</style>\n",
       "<table border=\"1\" class=\"dataframe\">\n",
       "  <thead>\n",
       "    <tr style=\"text-align: right;\">\n",
       "      <th></th>\n",
       "      <th>Model</th>\n",
       "      <th>hyperparameter name</th>\n",
       "      <th>train accuracy</th>\n",
       "      <th>test accuracy</th>\n",
       "      <th>AUC Score</th>\n",
       "    </tr>\n",
       "  </thead>\n",
       "  <tbody>\n",
       "    <tr>\n",
       "      <th>0</th>\n",
       "      <td>min_samples_split=2</td>\n",
       "      <td>min_samples_split</td>\n",
       "      <td>1.000000</td>\n",
       "      <td>0.991254</td>\n",
       "      <td>0.990578</td>\n",
       "    </tr>\n",
       "    <tr>\n",
       "      <th>1</th>\n",
       "      <td>min_samples_split=3</td>\n",
       "      <td>min_samples_split</td>\n",
       "      <td>0.999028</td>\n",
       "      <td>0.988338</td>\n",
       "      <td>0.987130</td>\n",
       "    </tr>\n",
       "    <tr>\n",
       "      <th>2</th>\n",
       "      <td>min_samples_split=4</td>\n",
       "      <td>min_samples_split</td>\n",
       "      <td>0.998056</td>\n",
       "      <td>0.988338</td>\n",
       "      <td>0.987130</td>\n",
       "    </tr>\n",
       "    <tr>\n",
       "      <th>3</th>\n",
       "      <td>min_samples_split=5</td>\n",
       "      <td>min_samples_split</td>\n",
       "      <td>0.998056</td>\n",
       "      <td>0.988338</td>\n",
       "      <td>0.987130</td>\n",
       "    </tr>\n",
       "    <tr>\n",
       "      <th>4</th>\n",
       "      <td>min_samples_split=6</td>\n",
       "      <td>min_samples_split</td>\n",
       "      <td>0.998056</td>\n",
       "      <td>0.988338</td>\n",
       "      <td>0.987130</td>\n",
       "    </tr>\n",
       "    <tr>\n",
       "      <th>5</th>\n",
       "      <td>min_samples_split=7</td>\n",
       "      <td>min_samples_split</td>\n",
       "      <td>0.998056</td>\n",
       "      <td>0.988338</td>\n",
       "      <td>0.987130</td>\n",
       "    </tr>\n",
       "    <tr>\n",
       "      <th>6</th>\n",
       "      <td>min_samples_split=8</td>\n",
       "      <td>min_samples_split</td>\n",
       "      <td>0.998056</td>\n",
       "      <td>0.988338</td>\n",
       "      <td>0.987130</td>\n",
       "    </tr>\n",
       "    <tr>\n",
       "      <th>7</th>\n",
       "      <td>min_samples_split=9</td>\n",
       "      <td>min_samples_split</td>\n",
       "      <td>0.998056</td>\n",
       "      <td>0.988338</td>\n",
       "      <td>0.987130</td>\n",
       "    </tr>\n",
       "    <tr>\n",
       "      <th>8</th>\n",
       "      <td>min_samples_split=10</td>\n",
       "      <td>min_samples_split</td>\n",
       "      <td>0.998056</td>\n",
       "      <td>0.988338</td>\n",
       "      <td>0.987130</td>\n",
       "    </tr>\n",
       "    <tr>\n",
       "      <th>9</th>\n",
       "      <td>min_samples_split=11</td>\n",
       "      <td>min_samples_split</td>\n",
       "      <td>0.998056</td>\n",
       "      <td>0.988338</td>\n",
       "      <td>0.987130</td>\n",
       "    </tr>\n",
       "    <tr>\n",
       "      <th>10</th>\n",
       "      <td>min_samples_split=12</td>\n",
       "      <td>min_samples_split</td>\n",
       "      <td>0.998056</td>\n",
       "      <td>0.988338</td>\n",
       "      <td>0.987130</td>\n",
       "    </tr>\n",
       "    <tr>\n",
       "      <th>11</th>\n",
       "      <td>min_samples_split=13</td>\n",
       "      <td>min_samples_split</td>\n",
       "      <td>0.997085</td>\n",
       "      <td>0.988338</td>\n",
       "      <td>0.987130</td>\n",
       "    </tr>\n",
       "    <tr>\n",
       "      <th>12</th>\n",
       "      <td>min_samples_split=14</td>\n",
       "      <td>min_samples_split</td>\n",
       "      <td>0.997085</td>\n",
       "      <td>0.988338</td>\n",
       "      <td>0.987130</td>\n",
       "    </tr>\n",
       "    <tr>\n",
       "      <th>13</th>\n",
       "      <td>min_samples_split=15</td>\n",
       "      <td>min_samples_split</td>\n",
       "      <td>0.995141</td>\n",
       "      <td>0.985423</td>\n",
       "      <td>0.983682</td>\n",
       "    </tr>\n",
       "    <tr>\n",
       "      <th>14</th>\n",
       "      <td>min_samples_split=16</td>\n",
       "      <td>min_samples_split</td>\n",
       "      <td>0.995141</td>\n",
       "      <td>0.985423</td>\n",
       "      <td>0.983682</td>\n",
       "    </tr>\n",
       "    <tr>\n",
       "      <th>15</th>\n",
       "      <td>min_samples_split=17</td>\n",
       "      <td>min_samples_split</td>\n",
       "      <td>0.995141</td>\n",
       "      <td>0.985423</td>\n",
       "      <td>0.983682</td>\n",
       "    </tr>\n",
       "    <tr>\n",
       "      <th>16</th>\n",
       "      <td>min_samples_split=18</td>\n",
       "      <td>min_samples_split</td>\n",
       "      <td>0.995141</td>\n",
       "      <td>0.985423</td>\n",
       "      <td>0.983682</td>\n",
       "    </tr>\n",
       "    <tr>\n",
       "      <th>17</th>\n",
       "      <td>min_samples_split=19</td>\n",
       "      <td>min_samples_split</td>\n",
       "      <td>0.995141</td>\n",
       "      <td>0.985423</td>\n",
       "      <td>0.983682</td>\n",
       "    </tr>\n",
       "    <tr>\n",
       "      <th>18</th>\n",
       "      <td>min_samples_split=20</td>\n",
       "      <td>min_samples_split</td>\n",
       "      <td>0.995141</td>\n",
       "      <td>0.985423</td>\n",
       "      <td>0.983682</td>\n",
       "    </tr>\n",
       "    <tr>\n",
       "      <th>19</th>\n",
       "      <td>min_samples_split=21</td>\n",
       "      <td>min_samples_split</td>\n",
       "      <td>0.995141</td>\n",
       "      <td>0.985423</td>\n",
       "      <td>0.983682</td>\n",
       "    </tr>\n",
       "    <tr>\n",
       "      <th>20</th>\n",
       "      <td>min_samples_split=22</td>\n",
       "      <td>min_samples_split</td>\n",
       "      <td>0.995141</td>\n",
       "      <td>0.985423</td>\n",
       "      <td>0.983682</td>\n",
       "    </tr>\n",
       "    <tr>\n",
       "      <th>21</th>\n",
       "      <td>min_samples_split=23</td>\n",
       "      <td>min_samples_split</td>\n",
       "      <td>0.992225</td>\n",
       "      <td>0.985423</td>\n",
       "      <td>0.983682</td>\n",
       "    </tr>\n",
       "    <tr>\n",
       "      <th>22</th>\n",
       "      <td>min_samples_split=24</td>\n",
       "      <td>min_samples_split</td>\n",
       "      <td>0.992225</td>\n",
       "      <td>0.985423</td>\n",
       "      <td>0.983682</td>\n",
       "    </tr>\n",
       "    <tr>\n",
       "      <th>23</th>\n",
       "      <td>min_samples_split=25</td>\n",
       "      <td>min_samples_split</td>\n",
       "      <td>0.992225</td>\n",
       "      <td>0.985423</td>\n",
       "      <td>0.983682</td>\n",
       "    </tr>\n",
       "    <tr>\n",
       "      <th>24</th>\n",
       "      <td>min_samples_split=26</td>\n",
       "      <td>min_samples_split</td>\n",
       "      <td>0.992225</td>\n",
       "      <td>0.985423</td>\n",
       "      <td>0.983682</td>\n",
       "    </tr>\n",
       "    <tr>\n",
       "      <th>25</th>\n",
       "      <td>min_samples_split=27</td>\n",
       "      <td>min_samples_split</td>\n",
       "      <td>0.982507</td>\n",
       "      <td>0.962099</td>\n",
       "      <td>0.964403</td>\n",
       "    </tr>\n",
       "    <tr>\n",
       "      <th>26</th>\n",
       "      <td>min_samples_split=28</td>\n",
       "      <td>min_samples_split</td>\n",
       "      <td>0.982507</td>\n",
       "      <td>0.962099</td>\n",
       "      <td>0.964403</td>\n",
       "    </tr>\n",
       "    <tr>\n",
       "      <th>27</th>\n",
       "      <td>min_samples_split=29</td>\n",
       "      <td>min_samples_split</td>\n",
       "      <td>0.982507</td>\n",
       "      <td>0.962099</td>\n",
       "      <td>0.964403</td>\n",
       "    </tr>\n",
       "    <tr>\n",
       "      <th>28</th>\n",
       "      <td>min_samples_split=30</td>\n",
       "      <td>min_samples_split</td>\n",
       "      <td>0.982507</td>\n",
       "      <td>0.962099</td>\n",
       "      <td>0.964403</td>\n",
       "    </tr>\n",
       "    <tr>\n",
       "      <th>29</th>\n",
       "      <td>min_samples_split=31</td>\n",
       "      <td>min_samples_split</td>\n",
       "      <td>0.981535</td>\n",
       "      <td>0.962099</td>\n",
       "      <td>0.964403</td>\n",
       "    </tr>\n",
       "    <tr>\n",
       "      <th>30</th>\n",
       "      <td>min_samples_split=32</td>\n",
       "      <td>min_samples_split</td>\n",
       "      <td>0.975705</td>\n",
       "      <td>0.956268</td>\n",
       "      <td>0.959352</td>\n",
       "    </tr>\n",
       "    <tr>\n",
       "      <th>31</th>\n",
       "      <td>min_samples_split=33</td>\n",
       "      <td>min_samples_split</td>\n",
       "      <td>0.975705</td>\n",
       "      <td>0.956268</td>\n",
       "      <td>0.959352</td>\n",
       "    </tr>\n",
       "    <tr>\n",
       "      <th>32</th>\n",
       "      <td>min_samples_split=34</td>\n",
       "      <td>min_samples_split</td>\n",
       "      <td>0.975705</td>\n",
       "      <td>0.956268</td>\n",
       "      <td>0.959352</td>\n",
       "    </tr>\n",
       "    <tr>\n",
       "      <th>33</th>\n",
       "      <td>min_samples_split=35</td>\n",
       "      <td>min_samples_split</td>\n",
       "      <td>0.975705</td>\n",
       "      <td>0.956268</td>\n",
       "      <td>0.959352</td>\n",
       "    </tr>\n",
       "    <tr>\n",
       "      <th>34</th>\n",
       "      <td>min_samples_split=36</td>\n",
       "      <td>min_samples_split</td>\n",
       "      <td>0.975705</td>\n",
       "      <td>0.956268</td>\n",
       "      <td>0.959352</td>\n",
       "    </tr>\n",
       "    <tr>\n",
       "      <th>35</th>\n",
       "      <td>min_samples_split=37</td>\n",
       "      <td>min_samples_split</td>\n",
       "      <td>0.975705</td>\n",
       "      <td>0.956268</td>\n",
       "      <td>0.959352</td>\n",
       "    </tr>\n",
       "    <tr>\n",
       "      <th>36</th>\n",
       "      <td>min_samples_split=38</td>\n",
       "      <td>min_samples_split</td>\n",
       "      <td>0.975705</td>\n",
       "      <td>0.956268</td>\n",
       "      <td>0.959352</td>\n",
       "    </tr>\n",
       "    <tr>\n",
       "      <th>37</th>\n",
       "      <td>min_samples_split=39</td>\n",
       "      <td>min_samples_split</td>\n",
       "      <td>0.975705</td>\n",
       "      <td>0.956268</td>\n",
       "      <td>0.959352</td>\n",
       "    </tr>\n",
       "    <tr>\n",
       "      <th>38</th>\n",
       "      <td>min_samples_split=40</td>\n",
       "      <td>min_samples_split</td>\n",
       "      <td>0.975705</td>\n",
       "      <td>0.956268</td>\n",
       "      <td>0.959352</td>\n",
       "    </tr>\n",
       "  </tbody>\n",
       "</table>\n",
       "</div>"
      ],
      "text/plain": [
       "                   Model hyperparameter name  train accuracy  test accuracy  \\\n",
       "0    min_samples_split=2   min_samples_split        1.000000       0.991254   \n",
       "1    min_samples_split=3   min_samples_split        0.999028       0.988338   \n",
       "2    min_samples_split=4   min_samples_split        0.998056       0.988338   \n",
       "3    min_samples_split=5   min_samples_split        0.998056       0.988338   \n",
       "4    min_samples_split=6   min_samples_split        0.998056       0.988338   \n",
       "5    min_samples_split=7   min_samples_split        0.998056       0.988338   \n",
       "6    min_samples_split=8   min_samples_split        0.998056       0.988338   \n",
       "7    min_samples_split=9   min_samples_split        0.998056       0.988338   \n",
       "8   min_samples_split=10   min_samples_split        0.998056       0.988338   \n",
       "9   min_samples_split=11   min_samples_split        0.998056       0.988338   \n",
       "10  min_samples_split=12   min_samples_split        0.998056       0.988338   \n",
       "11  min_samples_split=13   min_samples_split        0.997085       0.988338   \n",
       "12  min_samples_split=14   min_samples_split        0.997085       0.988338   \n",
       "13  min_samples_split=15   min_samples_split        0.995141       0.985423   \n",
       "14  min_samples_split=16   min_samples_split        0.995141       0.985423   \n",
       "15  min_samples_split=17   min_samples_split        0.995141       0.985423   \n",
       "16  min_samples_split=18   min_samples_split        0.995141       0.985423   \n",
       "17  min_samples_split=19   min_samples_split        0.995141       0.985423   \n",
       "18  min_samples_split=20   min_samples_split        0.995141       0.985423   \n",
       "19  min_samples_split=21   min_samples_split        0.995141       0.985423   \n",
       "20  min_samples_split=22   min_samples_split        0.995141       0.985423   \n",
       "21  min_samples_split=23   min_samples_split        0.992225       0.985423   \n",
       "22  min_samples_split=24   min_samples_split        0.992225       0.985423   \n",
       "23  min_samples_split=25   min_samples_split        0.992225       0.985423   \n",
       "24  min_samples_split=26   min_samples_split        0.992225       0.985423   \n",
       "25  min_samples_split=27   min_samples_split        0.982507       0.962099   \n",
       "26  min_samples_split=28   min_samples_split        0.982507       0.962099   \n",
       "27  min_samples_split=29   min_samples_split        0.982507       0.962099   \n",
       "28  min_samples_split=30   min_samples_split        0.982507       0.962099   \n",
       "29  min_samples_split=31   min_samples_split        0.981535       0.962099   \n",
       "30  min_samples_split=32   min_samples_split        0.975705       0.956268   \n",
       "31  min_samples_split=33   min_samples_split        0.975705       0.956268   \n",
       "32  min_samples_split=34   min_samples_split        0.975705       0.956268   \n",
       "33  min_samples_split=35   min_samples_split        0.975705       0.956268   \n",
       "34  min_samples_split=36   min_samples_split        0.975705       0.956268   \n",
       "35  min_samples_split=37   min_samples_split        0.975705       0.956268   \n",
       "36  min_samples_split=38   min_samples_split        0.975705       0.956268   \n",
       "37  min_samples_split=39   min_samples_split        0.975705       0.956268   \n",
       "38  min_samples_split=40   min_samples_split        0.975705       0.956268   \n",
       "\n",
       "    AUC Score  \n",
       "0    0.990578  \n",
       "1    0.987130  \n",
       "2    0.987130  \n",
       "3    0.987130  \n",
       "4    0.987130  \n",
       "5    0.987130  \n",
       "6    0.987130  \n",
       "7    0.987130  \n",
       "8    0.987130  \n",
       "9    0.987130  \n",
       "10   0.987130  \n",
       "11   0.987130  \n",
       "12   0.987130  \n",
       "13   0.983682  \n",
       "14   0.983682  \n",
       "15   0.983682  \n",
       "16   0.983682  \n",
       "17   0.983682  \n",
       "18   0.983682  \n",
       "19   0.983682  \n",
       "20   0.983682  \n",
       "21   0.983682  \n",
       "22   0.983682  \n",
       "23   0.983682  \n",
       "24   0.983682  \n",
       "25   0.964403  \n",
       "26   0.964403  \n",
       "27   0.964403  \n",
       "28   0.964403  \n",
       "29   0.964403  \n",
       "30   0.959352  \n",
       "31   0.959352  \n",
       "32   0.959352  \n",
       "33   0.959352  \n",
       "34   0.959352  \n",
       "35   0.959352  \n",
       "36   0.959352  \n",
       "37   0.959352  \n",
       "38   0.959352  "
      ]
     },
     "execution_count": 223,
     "metadata": {},
     "output_type": "execute_result"
    }
   ],
   "source": [
    "model_details2 = store_model_result(model_details2,Model_list,train_accuracy_list,test_accuracy_list,AUC_Score_list,'min_samples_split',min_samples_list)\n",
    "\n",
    "model_details2"
   ]
  },
  {
   "cell_type": "code",
   "execution_count": null,
   "metadata": {},
   "outputs": [],
   "source": []
  },
  {
   "cell_type": "markdown",
   "metadata": {},
   "source": [
    "### 4. Build Decision tree and tune 'min_samples_leaf' "
   ]
  },
  {
   "cell_type": "code",
   "execution_count": 224,
   "metadata": {},
   "outputs": [
    {
     "name": "stdout",
     "output_type": "stream",
     "text": [
      "Length of list :  20\n"
     ]
    }
   ],
   "source": [
    "model_details3,Model_list,train_accuracy_list,test_accuracy_list,AUC_Score_list,min_samples_leaf_list,train_auc_score,test_auc_score = create_df_list(1,21)"
   ]
  },
  {
   "cell_type": "code",
   "execution_count": 225,
   "metadata": {},
   "outputs": [
    {
     "data": {
      "text/html": [
       "<div>\n",
       "<style scoped>\n",
       "    .dataframe tbody tr th:only-of-type {\n",
       "        vertical-align: middle;\n",
       "    }\n",
       "\n",
       "    .dataframe tbody tr th {\n",
       "        vertical-align: top;\n",
       "    }\n",
       "\n",
       "    .dataframe thead th {\n",
       "        text-align: right;\n",
       "    }\n",
       "</style>\n",
       "<table border=\"1\" class=\"dataframe\">\n",
       "  <thead>\n",
       "    <tr style=\"text-align: right;\">\n",
       "      <th></th>\n",
       "      <th>Model</th>\n",
       "      <th>hyperparameter name</th>\n",
       "      <th>train accuracy</th>\n",
       "      <th>test accuracy</th>\n",
       "      <th>AUC Score</th>\n",
       "    </tr>\n",
       "  </thead>\n",
       "  <tbody>\n",
       "  </tbody>\n",
       "</table>\n",
       "</div>"
      ],
      "text/plain": [
       "Empty DataFrame\n",
       "Columns: [Model, hyperparameter name, train accuracy, test accuracy, AUC Score]\n",
       "Index: []"
      ]
     },
     "execution_count": 225,
     "metadata": {},
     "output_type": "execute_result"
    }
   ],
   "source": [
    "model_details3"
   ]
  },
  {
   "cell_type": "code",
   "execution_count": 226,
   "metadata": {},
   "outputs": [],
   "source": [
    "for leaf in min_samples_leaf_list:\n",
    "    tree = DecisionTreeClassifier(random_state=100,min_samples_leaf=leaf).fit(x_train,y_train)\n",
    "    Model_list,train_accuracy_list,test_accuracy_list,train_auc_score,test_auc_score,AUC_Score_list = parameter_tuning(tree,x_train,y_train,x_test,y_test,Model_list,train_accuracy_list,test_accuracy_list,train_auc_score,test_auc_score,AUC_Score_list,'min_samples_leaf',leaf)"
   ]
  },
  {
   "cell_type": "code",
   "execution_count": 227,
   "metadata": {},
   "outputs": [
    {
     "data": {
      "image/png": "[encoded data removed]",
      "text/plain": [
       "<Figure size 432x288 with 1 Axes>"
      ]
     },
     "metadata": {
      "needs_background": "light"
     },
     "output_type": "display_data"
    }
   ],
   "source": [
    "create_roc_plot(min_samples_leaf_list,train_auc_score,test_auc_score,'min_samples_leaf')"
   ]
  },
  {
   "cell_type": "code",
   "execution_count": 228,
   "metadata": {},
   "outputs": [
    {
     "data": {
      "text/html": [
       "<div>\n",
       "<style scoped>\n",
       "    .dataframe tbody tr th:only-of-type {\n",
       "        vertical-align: middle;\n",
       "    }\n",
       "\n",
       "    .dataframe tbody tr th {\n",
       "        vertical-align: top;\n",
       "    }\n",
       "\n",
       "    .dataframe thead th {\n",
       "        text-align: right;\n",
       "    }\n",
       "</style>\n",
       "<table border=\"1\" class=\"dataframe\">\n",
       "  <thead>\n",
       "    <tr style=\"text-align: right;\">\n",
       "      <th></th>\n",
       "      <th>Model</th>\n",
       "      <th>hyperparameter name</th>\n",
       "      <th>train accuracy</th>\n",
       "      <th>test accuracy</th>\n",
       "      <th>AUC Score</th>\n",
       "    </tr>\n",
       "  </thead>\n",
       "  <tbody>\n",
       "    <tr>\n",
       "      <th>0</th>\n",
       "      <td>min_samples_leaf=1</td>\n",
       "      <td>min_samples_leaf</td>\n",
       "      <td>1.000000</td>\n",
       "      <td>0.991254</td>\n",
       "      <td>0.990578</td>\n",
       "    </tr>\n",
       "    <tr>\n",
       "      <th>1</th>\n",
       "      <td>min_samples_leaf=2</td>\n",
       "      <td>min_samples_leaf</td>\n",
       "      <td>0.993197</td>\n",
       "      <td>0.988338</td>\n",
       "      <td>0.987130</td>\n",
       "    </tr>\n",
       "    <tr>\n",
       "      <th>2</th>\n",
       "      <td>min_samples_leaf=3</td>\n",
       "      <td>min_samples_leaf</td>\n",
       "      <td>0.993197</td>\n",
       "      <td>0.988338</td>\n",
       "      <td>0.987130</td>\n",
       "    </tr>\n",
       "    <tr>\n",
       "      <th>3</th>\n",
       "      <td>min_samples_leaf=4</td>\n",
       "      <td>min_samples_leaf</td>\n",
       "      <td>0.991254</td>\n",
       "      <td>0.985423</td>\n",
       "      <td>0.983682</td>\n",
       "    </tr>\n",
       "    <tr>\n",
       "      <th>4</th>\n",
       "      <td>min_samples_leaf=5</td>\n",
       "      <td>min_samples_leaf</td>\n",
       "      <td>0.990282</td>\n",
       "      <td>0.985423</td>\n",
       "      <td>0.983682</td>\n",
       "    </tr>\n",
       "    <tr>\n",
       "      <th>5</th>\n",
       "      <td>min_samples_leaf=6</td>\n",
       "      <td>min_samples_leaf</td>\n",
       "      <td>0.989310</td>\n",
       "      <td>0.982507</td>\n",
       "      <td>0.980233</td>\n",
       "    </tr>\n",
       "    <tr>\n",
       "      <th>6</th>\n",
       "      <td>min_samples_leaf=7</td>\n",
       "      <td>min_samples_leaf</td>\n",
       "      <td>0.988338</td>\n",
       "      <td>0.985423</td>\n",
       "      <td>0.983682</td>\n",
       "    </tr>\n",
       "    <tr>\n",
       "      <th>7</th>\n",
       "      <td>min_samples_leaf=8</td>\n",
       "      <td>min_samples_leaf</td>\n",
       "      <td>0.987366</td>\n",
       "      <td>0.985423</td>\n",
       "      <td>0.983682</td>\n",
       "    </tr>\n",
       "    <tr>\n",
       "      <th>8</th>\n",
       "      <td>min_samples_leaf=9</td>\n",
       "      <td>min_samples_leaf</td>\n",
       "      <td>0.986395</td>\n",
       "      <td>0.985423</td>\n",
       "      <td>0.983682</td>\n",
       "    </tr>\n",
       "    <tr>\n",
       "      <th>9</th>\n",
       "      <td>min_samples_leaf=10</td>\n",
       "      <td>min_samples_leaf</td>\n",
       "      <td>0.985423</td>\n",
       "      <td>0.985423</td>\n",
       "      <td>0.983682</td>\n",
       "    </tr>\n",
       "    <tr>\n",
       "      <th>10</th>\n",
       "      <td>min_samples_leaf=11</td>\n",
       "      <td>min_samples_leaf</td>\n",
       "      <td>0.984451</td>\n",
       "      <td>0.982507</td>\n",
       "      <td>0.980233</td>\n",
       "    </tr>\n",
       "    <tr>\n",
       "      <th>11</th>\n",
       "      <td>min_samples_leaf=12</td>\n",
       "      <td>min_samples_leaf</td>\n",
       "      <td>0.983479</td>\n",
       "      <td>0.979592</td>\n",
       "      <td>0.976785</td>\n",
       "    </tr>\n",
       "    <tr>\n",
       "      <th>12</th>\n",
       "      <td>min_samples_leaf=13</td>\n",
       "      <td>min_samples_leaf</td>\n",
       "      <td>0.982507</td>\n",
       "      <td>0.979592</td>\n",
       "      <td>0.978631</td>\n",
       "    </tr>\n",
       "    <tr>\n",
       "      <th>13</th>\n",
       "      <td>min_samples_leaf=14</td>\n",
       "      <td>min_samples_leaf</td>\n",
       "      <td>0.973761</td>\n",
       "      <td>0.956268</td>\n",
       "      <td>0.959352</td>\n",
       "    </tr>\n",
       "    <tr>\n",
       "      <th>14</th>\n",
       "      <td>min_samples_leaf=15</td>\n",
       "      <td>min_samples_leaf</td>\n",
       "      <td>0.973761</td>\n",
       "      <td>0.956268</td>\n",
       "      <td>0.959352</td>\n",
       "    </tr>\n",
       "    <tr>\n",
       "      <th>15</th>\n",
       "      <td>min_samples_leaf=16</td>\n",
       "      <td>min_samples_leaf</td>\n",
       "      <td>0.973761</td>\n",
       "      <td>0.956268</td>\n",
       "      <td>0.959352</td>\n",
       "    </tr>\n",
       "    <tr>\n",
       "      <th>16</th>\n",
       "      <td>min_samples_leaf=17</td>\n",
       "      <td>min_samples_leaf</td>\n",
       "      <td>0.973761</td>\n",
       "      <td>0.956268</td>\n",
       "      <td>0.959352</td>\n",
       "    </tr>\n",
       "    <tr>\n",
       "      <th>17</th>\n",
       "      <td>min_samples_leaf=18</td>\n",
       "      <td>min_samples_leaf</td>\n",
       "      <td>0.973761</td>\n",
       "      <td>0.956268</td>\n",
       "      <td>0.959352</td>\n",
       "    </tr>\n",
       "    <tr>\n",
       "      <th>18</th>\n",
       "      <td>min_samples_leaf=19</td>\n",
       "      <td>min_samples_leaf</td>\n",
       "      <td>0.973761</td>\n",
       "      <td>0.956268</td>\n",
       "      <td>0.959352</td>\n",
       "    </tr>\n",
       "    <tr>\n",
       "      <th>19</th>\n",
       "      <td>min_samples_leaf=20</td>\n",
       "      <td>min_samples_leaf</td>\n",
       "      <td>0.973761</td>\n",
       "      <td>0.956268</td>\n",
       "      <td>0.959352</td>\n",
       "    </tr>\n",
       "  </tbody>\n",
       "</table>\n",
       "</div>"
      ],
      "text/plain": [
       "                  Model hyperparameter name  train accuracy  test accuracy  \\\n",
       "0    min_samples_leaf=1    min_samples_leaf        1.000000       0.991254   \n",
       "1    min_samples_leaf=2    min_samples_leaf        0.993197       0.988338   \n",
       "2    min_samples_leaf=3    min_samples_leaf        0.993197       0.988338   \n",
       "3    min_samples_leaf=4    min_samples_leaf        0.991254       0.985423   \n",
       "4    min_samples_leaf=5    min_samples_leaf        0.990282       0.985423   \n",
       "5    min_samples_leaf=6    min_samples_leaf        0.989310       0.982507   \n",
       "6    min_samples_leaf=7    min_samples_leaf        0.988338       0.985423   \n",
       "7    min_samples_leaf=8    min_samples_leaf        0.987366       0.985423   \n",
       "8    min_samples_leaf=9    min_samples_leaf        0.986395       0.985423   \n",
       "9   min_samples_leaf=10    min_samples_leaf        0.985423       0.985423   \n",
       "10  min_samples_leaf=11    min_samples_leaf        0.984451       0.982507   \n",
       "11  min_samples_leaf=12    min_samples_leaf        0.983479       0.979592   \n",
       "12  min_samples_leaf=13    min_samples_leaf        0.982507       0.979592   \n",
       "13  min_samples_leaf=14    min_samples_leaf        0.973761       0.956268   \n",
       "14  min_samples_leaf=15    min_samples_leaf        0.973761       0.956268   \n",
       "15  min_samples_leaf=16    min_samples_leaf        0.973761       0.956268   \n",
       "16  min_samples_leaf=17    min_samples_leaf        0.973761       0.956268   \n",
       "17  min_samples_leaf=18    min_samples_leaf        0.973761       0.956268   \n",
       "18  min_samples_leaf=19    min_samples_leaf        0.973761       0.956268   \n",
       "19  min_samples_leaf=20    min_samples_leaf        0.973761       0.956268   \n",
       "\n",
       "    AUC Score  \n",
       "0    0.990578  \n",
       "1    0.987130  \n",
       "2    0.987130  \n",
       "3    0.983682  \n",
       "4    0.983682  \n",
       "5    0.980233  \n",
       "6    0.983682  \n",
       "7    0.983682  \n",
       "8    0.983682  \n",
       "9    0.983682  \n",
       "10   0.980233  \n",
       "11   0.976785  \n",
       "12   0.978631  \n",
       "13   0.959352  \n",
       "14   0.959352  \n",
       "15   0.959352  \n",
       "16   0.959352  \n",
       "17   0.959352  \n",
       "18   0.959352  \n",
       "19   0.959352  "
      ]
     },
     "execution_count": 228,
     "metadata": {},
     "output_type": "execute_result"
    }
   ],
   "source": [
    "model_details3 = store_model_result(model_details3,Model_list,train_accuracy_list,test_accuracy_list,AUC_Score_list,'min_samples_leaf',min_samples_leaf_list)\n",
    "\n",
    "model_details3"
   ]
  },
  {
   "cell_type": "code",
   "execution_count": null,
   "metadata": {},
   "outputs": [],
   "source": []
  },
  {
   "cell_type": "markdown",
   "metadata": {},
   "source": [
    "### 5. Build Decision tree and tune 'max_features' "
   ]
  },
  {
   "cell_type": "code",
   "execution_count": 229,
   "metadata": {},
   "outputs": [
    {
     "name": "stdout",
     "output_type": "stream",
     "text": [
      "Length of list :  4\n"
     ]
    }
   ],
   "source": [
    "start=1\n",
    "end = x_train.shape[1]+1\n",
    "model_details4,Model_list,train_accuracy_list,test_accuracy_list,AUC_Score_list,feature_list,train_auc_score,test_auc_score = create_df_list(start,end)"
   ]
  },
  {
   "cell_type": "code",
   "execution_count": 230,
   "metadata": {},
   "outputs": [
    {
     "data": {
      "text/html": [
       "<div>\n",
       "<style scoped>\n",
       "    .dataframe tbody tr th:only-of-type {\n",
       "        vertical-align: middle;\n",
       "    }\n",
       "\n",
       "    .dataframe tbody tr th {\n",
       "        vertical-align: top;\n",
       "    }\n",
       "\n",
       "    .dataframe thead th {\n",
       "        text-align: right;\n",
       "    }\n",
       "</style>\n",
       "<table border=\"1\" class=\"dataframe\">\n",
       "  <thead>\n",
       "    <tr style=\"text-align: right;\">\n",
       "      <th></th>\n",
       "      <th>Model</th>\n",
       "      <th>hyperparameter name</th>\n",
       "      <th>train accuracy</th>\n",
       "      <th>test accuracy</th>\n",
       "      <th>AUC Score</th>\n",
       "    </tr>\n",
       "  </thead>\n",
       "  <tbody>\n",
       "  </tbody>\n",
       "</table>\n",
       "</div>"
      ],
      "text/plain": [
       "Empty DataFrame\n",
       "Columns: [Model, hyperparameter name, train accuracy, test accuracy, AUC Score]\n",
       "Index: []"
      ]
     },
     "execution_count": 230,
     "metadata": {},
     "output_type": "execute_result"
    }
   ],
   "source": [
    "model_details4"
   ]
  },
  {
   "cell_type": "code",
   "execution_count": 231,
   "metadata": {},
   "outputs": [],
   "source": [
    "for feature in feature_list:\n",
    "    tree = DecisionTreeClassifier(random_state=100,max_features=feature).fit(x_train,y_train)\n",
    "    Model_list,train_accuracy_list,test_accuracy_list,train_auc_score,test_auc_score,AUC_Score_list = parameter_tuning(tree,x_train,y_train,x_test,y_test,Model_list,train_accuracy_list,test_accuracy_list,train_auc_score,test_auc_score,AUC_Score_list,'max_feature',feature)"
   ]
  },
  {
   "cell_type": "code",
   "execution_count": 232,
   "metadata": {},
   "outputs": [
    {
     "data": {
      "image/png": "[encoded data removed]",
      "text/plain": [
       "<Figure size 432x288 with 1 Axes>"
      ]
     },
     "metadata": {
      "needs_background": "light"
     },
     "output_type": "display_data"
    }
   ],
   "source": [
    "create_roc_plot(feature_list,train_auc_score,test_auc_score,'max_features')"
   ]
  },
  {
   "cell_type": "code",
   "execution_count": 233,
   "metadata": {},
   "outputs": [
    {
     "data": {
      "text/html": [
       "<div>\n",
       "<style scoped>\n",
       "    .dataframe tbody tr th:only-of-type {\n",
       "        vertical-align: middle;\n",
       "    }\n",
       "\n",
       "    .dataframe tbody tr th {\n",
       "        vertical-align: top;\n",
       "    }\n",
       "\n",
       "    .dataframe thead th {\n",
       "        text-align: right;\n",
       "    }\n",
       "</style>\n",
       "<table border=\"1\" class=\"dataframe\">\n",
       "  <thead>\n",
       "    <tr style=\"text-align: right;\">\n",
       "      <th></th>\n",
       "      <th>Model</th>\n",
       "      <th>hyperparameter name</th>\n",
       "      <th>train accuracy</th>\n",
       "      <th>test accuracy</th>\n",
       "      <th>AUC Score</th>\n",
       "    </tr>\n",
       "  </thead>\n",
       "  <tbody>\n",
       "    <tr>\n",
       "      <th>0</th>\n",
       "      <td>max_feature=1</td>\n",
       "      <td>max_features</td>\n",
       "      <td>1.0</td>\n",
       "      <td>0.976676</td>\n",
       "      <td>0.976106</td>\n",
       "    </tr>\n",
       "    <tr>\n",
       "      <th>1</th>\n",
       "      <td>max_feature=2</td>\n",
       "      <td>max_features</td>\n",
       "      <td>1.0</td>\n",
       "      <td>0.997085</td>\n",
       "      <td>0.996552</td>\n",
       "    </tr>\n",
       "    <tr>\n",
       "      <th>2</th>\n",
       "      <td>max_feature=3</td>\n",
       "      <td>max_features</td>\n",
       "      <td>1.0</td>\n",
       "      <td>0.985423</td>\n",
       "      <td>0.985528</td>\n",
       "    </tr>\n",
       "    <tr>\n",
       "      <th>3</th>\n",
       "      <td>max_feature=4</td>\n",
       "      <td>max_features</td>\n",
       "      <td>1.0</td>\n",
       "      <td>0.991254</td>\n",
       "      <td>0.990578</td>\n",
       "    </tr>\n",
       "  </tbody>\n",
       "</table>\n",
       "</div>"
      ],
      "text/plain": [
       "           Model hyperparameter name  train accuracy  test accuracy  AUC Score\n",
       "0  max_feature=1        max_features             1.0       0.976676   0.976106\n",
       "1  max_feature=2        max_features             1.0       0.997085   0.996552\n",
       "2  max_feature=3        max_features             1.0       0.985423   0.985528\n",
       "3  max_feature=4        max_features             1.0       0.991254   0.990578"
      ]
     },
     "execution_count": 233,
     "metadata": {},
     "output_type": "execute_result"
    }
   ],
   "source": [
    "model_details4 = store_model_result(model_details4,Model_list,train_accuracy_list,test_accuracy_list,AUC_Score_list,'max_features',feature_list)\n",
    "\n",
    "model_details4"
   ]
  },
  {
   "cell_type": "code",
   "execution_count": null,
   "metadata": {},
   "outputs": [],
   "source": []
  },
  {
   "cell_type": "code",
   "execution_count": 234,
   "metadata": {},
   "outputs": [
    {
     "name": "stdout",
     "output_type": "stream",
     "text": [
      "Combining all models details : \n"
     ]
    }
   ],
   "source": [
    "print(\"Combining all models details : \")"
   ]
  },
  {
   "cell_type": "code",
   "execution_count": 238,
   "metadata": {},
   "outputs": [],
   "source": [
    "final_model_details = pd.concat([model_details,model_details1,model_details2,model_details3,model_details4])"
   ]
  },
  {
   "cell_type": "code",
   "execution_count": 239,
   "metadata": {},
   "outputs": [
    {
     "data": {
      "text/html": [
       "<div>\n",
       "<style scoped>\n",
       "    .dataframe tbody tr th:only-of-type {\n",
       "        vertical-align: middle;\n",
       "    }\n",
       "\n",
       "    .dataframe tbody tr th {\n",
       "        vertical-align: top;\n",
       "    }\n",
       "\n",
       "    .dataframe thead th {\n",
       "        text-align: right;\n",
       "    }\n",
       "</style>\n",
       "<table border=\"1\" class=\"dataframe\">\n",
       "  <thead>\n",
       "    <tr style=\"text-align: right;\">\n",
       "      <th></th>\n",
       "      <th>Model</th>\n",
       "      <th>hyperparameter name</th>\n",
       "      <th>train accuracy</th>\n",
       "      <th>test accuracy</th>\n",
       "      <th>AUC Score</th>\n",
       "    </tr>\n",
       "  </thead>\n",
       "  <tbody>\n",
       "    <tr>\n",
       "      <th>0</th>\n",
       "      <td>Base Model</td>\n",
       "      <td>None</td>\n",
       "      <td>1.000000</td>\n",
       "      <td>0.991254</td>\n",
       "      <td>0.990578</td>\n",
       "    </tr>\n",
       "    <tr>\n",
       "      <th>0</th>\n",
       "      <td>max_depth=1</td>\n",
       "      <td>max_depth</td>\n",
       "      <td>0.849368</td>\n",
       "      <td>0.865889</td>\n",
       "      <td>0.868147</td>\n",
       "    </tr>\n",
       "    <tr>\n",
       "      <th>1</th>\n",
       "      <td>max_depth=2</td>\n",
       "      <td>max_depth</td>\n",
       "      <td>0.910593</td>\n",
       "      <td>0.915452</td>\n",
       "      <td>0.906461</td>\n",
       "    </tr>\n",
       "    <tr>\n",
       "      <th>2</th>\n",
       "      <td>max_depth=3</td>\n",
       "      <td>max_depth</td>\n",
       "      <td>0.943635</td>\n",
       "      <td>0.950437</td>\n",
       "      <td>0.945994</td>\n",
       "    </tr>\n",
       "    <tr>\n",
       "      <th>3</th>\n",
       "      <td>max_depth=4</td>\n",
       "      <td>max_depth</td>\n",
       "      <td>0.978620</td>\n",
       "      <td>0.979592</td>\n",
       "      <td>0.976785</td>\n",
       "    </tr>\n",
       "    <tr>\n",
       "      <th>...</th>\n",
       "      <td>...</td>\n",
       "      <td>...</td>\n",
       "      <td>...</td>\n",
       "      <td>...</td>\n",
       "      <td>...</td>\n",
       "    </tr>\n",
       "    <tr>\n",
       "      <th>19</th>\n",
       "      <td>min_samples_leaf=20</td>\n",
       "      <td>min_samples_leaf</td>\n",
       "      <td>0.973761</td>\n",
       "      <td>0.956268</td>\n",
       "      <td>0.959352</td>\n",
       "    </tr>\n",
       "    <tr>\n",
       "      <th>0</th>\n",
       "      <td>max_feature=1</td>\n",
       "      <td>max_features</td>\n",
       "      <td>1.000000</td>\n",
       "      <td>0.976676</td>\n",
       "      <td>0.976106</td>\n",
       "    </tr>\n",
       "    <tr>\n",
       "      <th>1</th>\n",
       "      <td>max_feature=2</td>\n",
       "      <td>max_features</td>\n",
       "      <td>1.000000</td>\n",
       "      <td>0.997085</td>\n",
       "      <td>0.996552</td>\n",
       "    </tr>\n",
       "    <tr>\n",
       "      <th>2</th>\n",
       "      <td>max_feature=3</td>\n",
       "      <td>max_features</td>\n",
       "      <td>1.000000</td>\n",
       "      <td>0.985423</td>\n",
       "      <td>0.985528</td>\n",
       "    </tr>\n",
       "    <tr>\n",
       "      <th>3</th>\n",
       "      <td>max_feature=4</td>\n",
       "      <td>max_features</td>\n",
       "      <td>1.000000</td>\n",
       "      <td>0.991254</td>\n",
       "      <td>0.990578</td>\n",
       "    </tr>\n",
       "  </tbody>\n",
       "</table>\n",
       "<p>74 rows × 5 columns</p>\n",
       "</div>"
      ],
      "text/plain": [
       "                  Model hyperparameter name  train accuracy  test accuracy  \\\n",
       "0            Base Model                None        1.000000       0.991254   \n",
       "0           max_depth=1           max_depth        0.849368       0.865889   \n",
       "1           max_depth=2           max_depth        0.910593       0.915452   \n",
       "2           max_depth=3           max_depth        0.943635       0.950437   \n",
       "3           max_depth=4           max_depth        0.978620       0.979592   \n",
       "..                  ...                 ...             ...            ...   \n",
       "19  min_samples_leaf=20    min_samples_leaf        0.973761       0.956268   \n",
       "0         max_feature=1        max_features        1.000000       0.976676   \n",
       "1         max_feature=2        max_features        1.000000       0.997085   \n",
       "2         max_feature=3        max_features        1.000000       0.985423   \n",
       "3         max_feature=4        max_features        1.000000       0.991254   \n",
       "\n",
       "    AUC Score  \n",
       "0    0.990578  \n",
       "0    0.868147  \n",
       "1    0.906461  \n",
       "2    0.945994  \n",
       "3    0.976785  \n",
       "..        ...  \n",
       "19   0.959352  \n",
       "0    0.976106  \n",
       "1    0.996552  \n",
       "2    0.985528  \n",
       "3    0.990578  \n",
       "\n",
       "[74 rows x 5 columns]"
      ]
     },
     "execution_count": 239,
     "metadata": {},
     "output_type": "execute_result"
    }
   ],
   "source": [
    "final_model_details"
   ]
  },
  {
   "cell_type": "code",
   "execution_count": null,
   "metadata": {},
   "outputs": [],
   "source": []
  },
  {
   "cell_type": "markdown",
   "metadata": {},
   "source": [
    "We can analyze above details and check how changing the hyperparameter leads to different accuracy in train and test set and we can also perform Grid serach on combination of hyperparameter to get the optimal set of hyperparameter, so we can fit our final model on those."
   ]
  },
  {
   "cell_type": "code",
   "execution_count": null,
   "metadata": {},
   "outputs": [],
   "source": []
  }
 ],
 "metadata": {
  "kernelspec": {
   "display_name": "Python [conda env:py37]",
   "language": "python",
   "name": "conda-env-py37-py"
  },
  "language_info": {
   "codemirror_mode": {
    "name": "ipython",
    "version": 3
   },
   "file_extension": ".py",
   "mimetype": "text/x-python",
   "name": "python",
   "nbconvert_exporter": "python",
   "pygments_lexer": "ipython3",
   "version": "3.7.4"
  }
 },
 "nbformat": 4,
 "nbformat_minor": 2
}
